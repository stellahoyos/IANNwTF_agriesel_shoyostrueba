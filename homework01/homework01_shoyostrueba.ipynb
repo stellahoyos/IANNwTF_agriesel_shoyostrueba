{
 "cells": [
  {
   "cell_type": "markdown",
   "id": "dac59a5f-8a1c-4311-9f36-a1fb342dc45d",
   "metadata": {},
   "source": [
    "# Homework01 for iannwtf"
   ]
  },
  {
   "cell_type": "code",
   "execution_count": 1,
   "id": "a5d7996d-ec2b-4d11-ad40-dce9a325129b",
   "metadata": {},
   "outputs": [],
   "source": [
    "# imports\n",
    "import sklearn.datasets\n",
    "import matplotlib.pyplot as plt\n",
    "import numpy as np\n",
    "import math"
   ]
  },
  {
   "cell_type": "markdown",
   "id": "219d1e27-d88c-4cc6-ad2b-2f8e0b0df68a",
   "metadata": {},
   "source": [
    "### Data"
   ]
  },
  {
   "cell_type": "code",
   "execution_count": 2,
   "id": "e4cdd7e8-db3f-47df-9924-4d41ff66e52f",
   "metadata": {},
   "outputs": [],
   "source": [
    "#Extract the data into (input, target) tuples\n",
    "data, target = sklearn.datasets.load_digits(return_X_y=True)"
   ]
  },
  {
   "cell_type": "code",
   "execution_count": 3,
   "id": "448a3de7-8cd9-4979-a93b-bd85418a53fa",
   "metadata": {},
   "outputs": [
    {
     "data": {
      "image/png": "[encoded data removed]",
      "text/plain": [
       "<Figure size 640x480 with 1 Axes>"
      ]
     },
     "metadata": {},
     "output_type": "display_data"
    },
    {
     "name": "stdout",
     "output_type": "stream",
     "text": [
      "first target digit: 0\n"
     ]
    }
   ],
   "source": [
    "# Make sure your input images seem correct by plotting them as images respectively!\n",
    "\n",
    "# plot the first datapoint \n",
    "plt.imshow(data[0].reshape(8,8), cmap=\"gray\")\n",
    "plt.show()\n",
    "print(\"first target digit:\", target[0])"
   ]
  },
  {
   "cell_type": "code",
   "execution_count": 4,
   "id": "5134edbd-3fa9-4e5a-96f9-783a2d8d1587",
   "metadata": {},
   "outputs": [
    {
     "name": "stdout",
     "output_type": "stream",
     "text": [
      "(1797, 64)\n",
      "(64,)\n"
     ]
    }
   ],
   "source": [
    "#  Reshape the 8x8 images into vectors of shape (64) or (1, 64) depending on your preference\n",
    "print(data.shape)\n",
    "print(data[0].shape)"
   ]
  },
  {
   "cell_type": "code",
   "execution_count": 5,
   "id": "5dec7af8-1043-418d-ba22-6097bc80a698",
   "metadata": {},
   "outputs": [
    {
     "name": "stdout",
     "output_type": "stream",
     "text": [
      "[0.         0.         0.33333334 0.8666667  0.6        0.06666667\n",
      " 0.         0.         0.         0.         0.8666667  1.\n",
      " 0.6666667  1.         0.33333334 0.         0.         0.2\n",
      " 1.         0.13333334 0.         0.73333335 0.53333336 0.\n",
      " 0.         0.26666668 0.8        0.         0.         0.53333336\n",
      " 0.53333336 0.         0.         0.33333334 0.53333336 0.\n",
      " 0.         0.6        0.53333336 0.         0.         0.26666668\n",
      " 0.73333335 0.         0.06666667 0.8        0.46666667 0.\n",
      " 0.         0.13333334 0.93333334 0.33333334 0.6666667  0.8\n",
      " 0.         0.         0.         0.         0.4        0.8666667\n",
      " 0.6666667  0.         0.         0.        ]\n",
      "Min: 0 True\n",
      "Max: 1 True\n",
      "<class 'numpy.ndarray'>\n",
      "float32\n"
     ]
    }
   ],
   "source": [
    "#  Make sure the images are represented as float32 values within either the\n",
    "# [0 to 1] or [-1 to 1] range, if necessary rescale them respectively\n",
    "\n",
    "# normalisieren \n",
    "data_normalised = np.array(data / (np.max(data, 1).reshape(data.shape[0], 1)), dtype=\"float32\")\n",
    "\n",
    "print(data_normalised[0])\n",
    "\n",
    "# check normalised data\n",
    "print(\"Min: 0\", np.all(np.min(data_normalised, 1) == 0))\n",
    "print(\"Max: 1\", np.all(np.max(data_normalised, 1) == 1))\n",
    "print(type(data_normalised[0]))\n",
    "print(data_normalised.dtype)"
   ]
  },
  {
   "cell_type": "code",
   "execution_count": 6,
   "id": "8d39b7ce-894c-4d29-8e69-9eca3f04ec22",
   "metadata": {},
   "outputs": [
    {
     "name": "stdout",
     "output_type": "stream",
     "text": [
      "[0 1 2 ... 8 9 8]\n",
      "(1797, 10)\n",
      "[1. 0. 0. 0. 0. 0. 0. 0. 0. 0.] 0\n"
     ]
    }
   ],
   "source": [
    "# One-hot encode the target digits \n",
    "# (e.g. the target digit 2 would be rep\u0002resented as [0, 0, 1, 0, 0, 0, 0, 0, 0, 0], 9 as [0, 0, 0, 0, 0, 0, 0, 0, 0, 9]). \n",
    "# Onehot encoded vectors should have the shape (10) or (1, 10) up to your preference\n",
    "\n",
    "print(target)\n",
    "nb_classes = 10\n",
    "one_hot_targets = np.eye(nb_classes)[target]\n",
    "print(one_hot_targets.shape)\n",
    "print(one_hot_targets[0], target[0])"
   ]
  },
  {
   "cell_type": "code",
   "execution_count": 7,
   "id": "e3649d8e-aa77-4989-bda8-6081707095a4",
   "metadata": {},
   "outputs": [],
   "source": [
    "# Write a generator function, which shuffles the (input, target) pairs (keeping the respective input and target together)\n",
    "\n",
    "# Adjust your generator function to create minibatches: Combine minibatch\u0002size many inputs into a ndarray of shape minibatch size, 64, \n",
    "# and targets into a ndarray of shape minibatch size, 10 respectively. \n",
    "# Make sure you can adjust your minibatchsize as an argument to this generator, and also\n",
    "# that respective (input-target) pairs match with respect to their index in the minibatch\n",
    "\n",
    "def generate_batch(minibatch:int, data, targets):\n",
    "\n",
    "    # shuffle data, keep input and target together\n",
    "    randomized = np.arange(len(data))\n",
    "    np.random.shuffle(randomized)\n",
    "    data = data[randomized]\n",
    "    targets = targets[randomized]\n",
    "\n",
    "    # get number of resulting batches\n",
    "    num_batches = math.ceil(len(data) / minibatch)\n",
    "\n",
    "    # while there is data generate a batch\n",
    "    while len(data) > 0:\n",
    "\n",
    "        # generate batch that will have the given size\n",
    "        if len(data) >= minibatch:\n",
    "            data_batch = data[:minibatch]\n",
    "            data = data[minibatch:]\n",
    "            target_batch = targets[:minibatch]\n",
    "            targets = targets[minibatch:]\n",
    "\n",
    "        # generate batch with remaining data, batch will be smaller than given batchsize\n",
    "        elif len(data) < minibatch:\n",
    "            data_batch = data\n",
    "            data = []\n",
    "            target_batch = targets \n",
    "            targets = []\n",
    "        \n",
    "        yield data_batch, target_batch\n",
    "    "
   ]
  },
  {
   "cell_type": "markdown",
   "id": "1a73d231-a7e3-41c8-b249-3234ccd13295",
   "metadata": {},
   "source": [
    "### MLP"
   ]
  },
  {
   "cell_type": "code",
   "execution_count": 8,
   "id": "f90792d8-c239-4b2e-b72c-19abccbcf9c4",
   "metadata": {},
   "outputs": [],
   "source": [
    "class SoftmaxActivation():\n",
    "\n",
    "    def call(input):\n",
    "        output = (np.e**(input) / np.sum(np.e**(input)))\n",
    "        return np.array(output)"
   ]
  },
  {
   "cell_type": "code",
   "execution_count": 9,
   "id": "3b1d254b-2a7d-4ab1-b56a-d2489897c819",
   "metadata": {},
   "outputs": [],
   "source": [
    "class SigmoidActivation():\n",
    "        \n",
    "    def call(preactivation):\n",
    "        return 1 / (1 + np.e**(-preactivation))\n",
    "\n",
    "    # simple derivative of sigmoid nothing more\n",
    "    def backwards_call(input):\n",
    "        return SigmoidActivation.call(input) * (1 - SigmoidActivation.call(input))"
   ]
  },
  {
   "cell_type": "code",
   "execution_count": 10,
   "id": "c49b1be2-5696-4ac7-96a3-c581663e3671",
   "metadata": {},
   "outputs": [],
   "source": [
    "class CategoricalCrossEntropyLoss():\n",
    "\n",
    "    # output a loss (single value) for the prediction and given target \n",
    "    def call(prediction, target):\n",
    "        output = - np.sum(target*np.log(prediction))\n",
    "        return output\n",
    "\n",
    "\n",
    "    # backwards step taking into account categorical cross entropy loss and softmax derivative\n",
    "    # delta: prediction - target\n",
    "    def backwards_call(prediction, target):\n",
    "        output = prediction - target\n",
    "        return np.array(output)"
   ]
  },
  {
   "cell_type": "code",
   "execution_count": 11,
   "id": "798a9061-47ef-41cb-a56b-1b88de8b5ffb",
   "metadata": {},
   "outputs": [],
   "source": [
    "class MLP_layer():\n",
    "\n",
    "    def __init__(self, activation_function, num_units:int, input_size:int, last_layer = False):\n",
    "\n",
    "        # parameters given through constructor function\n",
    "        self.activation_function = activation_function\n",
    "        self.num_units = num_units\n",
    "        self.input_size = input_size\n",
    "        self.last_layer = last_layer\n",
    "\n",
    "        # parameters set when creating object\n",
    "        self.weights = np.random.normal(loc=0, scale=0.2, size=(self.num_units, self.input_size))\n",
    "        self.bias = np.zeros((self.num_units, 1)) \n",
    "\n",
    "        # set during call of different function on this object\n",
    "        self.activation = None\n",
    "        self.activation_prev_layer = None\n",
    "        self.drive = None\n",
    "\n",
    "        # just set \n",
    "        self.learningrate = 0.01\n",
    "\n",
    "    def forward_step(self, input):\n",
    "\n",
    "        # save the input as the activation of the previous layer for this exact object\n",
    "        self.activation_prev_layer = input\n",
    "        # save the drive, current weights times the unput plus the bias\n",
    "        self.drive = self.weights@input + self.bias\n",
    "        # put drive through activation function of this object/ layer\n",
    "        self.activation = self.activation_function.call(self.drive)\n",
    "\n",
    "        return self.activation\n",
    "\n",
    "    def backward_step(self, layerplusone_deltatimesweights, target):\n",
    "\n",
    "        # calculate the delta differently for the last/ output layer\n",
    "        if self.last_layer == True:\n",
    "            self.delta = CategoricalCrossEntropyLoss.backwards_call(self.activation, target)\n",
    "            \n",
    "        else:\n",
    "            self.delta = np.reshape(layerplusone_deltatimesweights, (layerplusone_deltatimesweights.shape[0],1)) * self.activation_function.backwards_call(self.drive)\n",
    "\n",
    "        # return this as the previous layers / next layer in backpropagation will need this\n",
    "        deltatimesweights = np.reshape(self.delta, (self.delta.shape[0])) @ self.weights\n",
    "        # delta weights, gradient of how much the weights should change\n",
    "        weight_update = self.delta @ np.reshape(self.activation_prev_layer, (1,self.activation_prev_layer.shape[0]))\n",
    "        # update weights\n",
    "        self.weights = self.weights - self.learningrate * weight_update\n",
    "        # update bias\n",
    "        self.bias = self.bias - self.learningrate * self.delta\n",
    "\n",
    "        return deltatimesweights\n"
   ]
  },
  {
   "cell_type": "code",
   "execution_count": 12,
   "id": "2927da46-d116-4363-ac19-8d6f885e91e3",
   "metadata": {},
   "outputs": [],
   "source": [
    "class MLP():\n",
    "\n",
    "    def __init__(self, num_layers:int, layer_activations:list,layer_units:list, layer_input_sizes:list):\n",
    "\n",
    "        # parameters set through constructor parameter list\n",
    "        self.num_layers = num_layers\n",
    "        self.layer_activations = layer_activations\n",
    "        self.layer_units = layer_units\n",
    "        self.layer_input_sizes = layer_input_sizes\n",
    "\n",
    "        # create the layer object of this mlp\n",
    "        layers = []\n",
    "        for i in range(self.num_layers):\n",
    "\n",
    "            if i == self.num_layers -1:\n",
    "                layer = MLP_layer(activation_function = self.layer_activations[i], num_units = self.layer_units[i], input_size = self.layer_input_sizes[i], last_layer=True)\n",
    "            else:\n",
    "                layer = MLP_layer(activation_function = self.layer_activations[i], num_units = self.layer_units[i], input_size = self.layer_input_sizes[i])\n",
    "                \n",
    "            layers.append(layer)\n",
    "\n",
    "        # set the layers of this mlp\n",
    "        self.layers = np.array(layers)\n",
    "\n",
    "\n",
    "\n",
    "    def forwardpropagation(self, input, target):\n",
    "\n",
    "        # for every layer in the mlp propagate the given input\n",
    "        for index, layer in enumerate(self.layers):\n",
    "            input = MLP_layer.forward_step(layer, input)\n",
    "        # compute loss at the end and return it\n",
    "        loss = CategoricalCrossEntropyLoss.call(self.layers[-1].activation, target) \n",
    "\n",
    "        return loss\n",
    "    \n",
    "    def backpropagation(self, target):\n",
    "\n",
    "        # reverse list of layers for propagating backwards\n",
    "        layers_backwards = np.flip(self.layers)\n",
    "        deltatimesweights = 0 # set to zero, not ideal but is not used the first time anyway\n",
    "\n",
    "        for layer in layers_backwards:\n",
    "            deltatimesweights = layer.backward_step(deltatimesweights, target)"
   ]
  },
  {
   "cell_type": "code",
   "execution_count": 13,
   "id": "c75a40ba-854d-47ea-85c5-6e87c61cf111",
   "metadata": {},
   "outputs": [],
   "source": [
    "# training function, specifying epochs and mlp\n",
    "# train given mlp for gien epochs and plot the average loss of every epoch at the end\n",
    "def training(mlp, epochs, data_normalised, one_hot_targets):\n",
    "    \n",
    "    loss = []\n",
    "    for e in range(epochs):\n",
    "        randomized = np.arange(len(data_normalised))\n",
    "        np.random.shuffle(randomized)\n",
    "        data_normalised = data_normalised[randomized]\n",
    "        one_hot_targets = one_hot_targets[randomized]\n",
    "        l = []\n",
    "        for i in range(len(data_normalised)):\n",
    "            input = np.reshape(data_normalised[i], (64,1))\n",
    "            target = np.reshape(one_hot_targets[i], (10,1))\n",
    "            current_loss = mlp.forwardpropagation(input, target)\n",
    "            l.append(current_loss)\n",
    "            mlp.backpropagation(target)\n",
    "        loss.append(np.mean(l))\n",
    "\n",
    "\n",
    "    plt.plot(np.linspace(1, epochs+1, epochs), loss)\n",
    "    plt.title(\"Average loss per Epoch\")\n",
    "    plt.xlabel(\"epoch\")\n",
    "    plt.ylabel(\"loss\")\n",
    "    plt.show()"
   ]
  },
  {
   "cell_type": "markdown",
   "id": "9daba1bd-0e83-4ed9-8788-509653a9186c",
   "metadata": {},
   "source": [
    "# Testing"
   ]
  },
  {
   "cell_type": "code",
   "execution_count": 16,
   "id": "7abf60b1-66fb-4af8-83e6-289c469a1066",
   "metadata": {},
   "outputs": [],
   "source": [
    "activations = [SigmoidActivation,SigmoidActivation,SigmoidActivation,SigmoidActivation,SigmoidActivation,SigmoidActivation, SoftmaxActivation]\n",
    "num_units = [20,15,10,20,30,15,10]\n",
    "input_sizes = [64,20,15,10,20,30,15]\n",
    "num_layers = 7\n",
    "mlp = MLP(num_layers, activations, num_units, input_sizes)"
   ]
  },
  {
   "cell_type": "code",
   "execution_count": 17,
   "id": "ffaf65d5-5e84-4e9c-8596-22d57795e277",
   "metadata": {},
   "outputs": [
    {
     "data": {
      "image/png": "[encoded data removed]",
      "text/plain": [
       "<Figure size 640x480 with 1 Axes>"
      ]
     },
     "metadata": {},
     "output_type": "display_data"
    }
   ],
   "source": [
    "training(mlp, 30, data_normalised, one_hot_targets)"
   ]
  }
 ],
 "metadata": {
  "kernelspec": {
   "display_name": "Python 3 (ipykernel)",
   "language": "python",
   "name": "python3"
  },
  "language_info": {
   "codemirror_mode": {
    "name": "ipython",
    "version": 3
   },
   "file_extension": ".py",
   "mimetype": "text/x-python",
   "name": "python",
   "nbconvert_exporter": "python",
   "pygments_lexer": "ipython3",
   "version": "3.12.0"
  }
 },
 "nbformat": 4,
 "nbformat_minor": 5
}
